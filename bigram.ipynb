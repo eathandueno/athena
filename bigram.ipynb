{
 "cells": [
  {
   "cell_type": "code",
   "execution_count": 1,
   "metadata": {},
   "outputs": [
    {
     "name": "stdout",
     "output_type": "stream",
     "text": [
      "cpu\n"
     ]
    }
   ],
   "source": [
    "import torch\n",
    "import torch.nn as nn \n",
    "from torch.nn import functional as F\n",
    "device = 'cuda' if torch.cuda.is_available() else 'cpu'\n",
    "print(device)\n",
    "block_size = 8\n",
    "batch_size = 4\n",
    "max_iters = 1000\n",
    "# eval_interval = 2500\n",
    "learning_rate = 3e-4\n",
    "eval_iters = 250"
   ]
  },
  {
   "cell_type": "code",
   "execution_count": 2,
   "metadata": {},
   "outputs": [
    {
     "name": "stdout",
     "output_type": "stream",
     "text": [
      "['\\n', ' ', '!', '(', ')', ',', '-', '.', '0', '1', '2', '3', '4', '5', '6', '7', '8', '9', ':', ';', '?', 'A', 'B', 'C', 'D', 'E', 'F', 'G', 'H', 'I', 'J', 'K', 'L', 'M', 'N', 'O', 'P', 'R', 'S', 'T', 'U', 'V', 'W', 'Y', '[', ']', '_', 'a', 'b', 'c', 'd', 'e', 'f', 'g', 'h', 'i', 'j', 'k', 'l', 'm', 'n', 'o', 'p', 'q', 'r', 's', 't', 'u', 'v', 'w', 'x', 'y', 'z', 'æ', 'è', 'é', 'ê', 'ô', '—', '‘', '’', '“', '”', '\\ufeff']\n"
     ]
    }
   ],
   "source": [
    "with open('Frankenstein.txt', 'r', encoding='utf-8') as f:\n",
    "    text = f.read()\n",
    "chars = sorted(set(text))\n",
    "print(chars)\n",
    "vocab_size = len(chars)"
   ]
  },
  {
   "cell_type": "code",
   "execution_count": 3,
   "metadata": {},
   "outputs": [],
   "source": [
    "string_to_int = { ch:i for i,ch in enumerate(chars) }\n",
    "int_to_string = { i:ch for i,ch in enumerate(chars) }\n",
    "encode = lambda s: [string_to_int[c] for c in s]\n",
    "decode = lambda l: ''.join([int_to_string[i] for i in l])\n",
    "\n",
    "data = torch.tensor(encode(text), dtype=torch.long)\n"
   ]
  },
  {
   "cell_type": "code",
   "execution_count": 4,
   "metadata": {},
   "outputs": [
    {
     "name": "stdout",
     "output_type": "stream",
     "text": [
      "inputs:\n",
      "tensor([[51, 59, 47, 55, 60, 50, 51, 64],\n",
      "        [69,  1, 54, 51, 47, 68, 55, 58],\n",
      "        [55, 65, 66, 67, 64, 48,  1, 66],\n",
      "        [ 1, 59, 55, 65, 66, 64, 51, 65]])\n",
      "targets:\n",
      "tensor([[59, 47, 55, 60, 50, 51, 64,  1],\n",
      "        [ 1, 54, 51, 47, 68, 55, 58, 71],\n",
      "        [65, 66, 67, 64, 48,  1, 66, 54],\n",
      "        [59, 55, 65, 66, 64, 51, 65, 65]])\n"
     ]
    }
   ],
   "source": [
    "# Define percentage\n",
    "n = int(0.8*len(data))\n",
    "# 80 % split for training \n",
    "train_data = data[:n]\n",
    "# 20 % split for validating\n",
    "val_data = data[n:]\n",
    "\n",
    "def get_batch(split):\n",
    "    data = train_data if split == 'train' else val_data\n",
    "    ix = torch.randint(len(data) - block_size, (batch_size,))\n",
    "    x =  torch.stack([data[i:i+block_size] for i in ix])\n",
    "    y = torch.stack([data[i+1:i+block_size+1] for i in ix])\n",
    "    x,y = x.to(device), y.to(device)\n",
    "    return x,y\n",
    "    \n",
    "x,y = get_batch('train')\n",
    "print('inputs:')\n",
    "\n",
    "print(x)\n",
    "print('targets:')\n",
    "print(y)\n"
   ]
  },
  {
   "cell_type": "code",
   "execution_count": 5,
   "metadata": {},
   "outputs": [
    {
     "name": "stdout",
     "output_type": "stream",
     "text": [
      "when input is tensor([83]) target is tensor(26)\n",
      "when input is tensor([83, 26]) target is tensor(64)\n",
      "when input is tensor([83, 26, 64]) target is tensor(47)\n",
      "when input is tensor([83, 26, 64, 47]) target is tensor(60)\n",
      "when input is tensor([83, 26, 64, 47, 60]) target is tensor(57)\n",
      "when input is tensor([83, 26, 64, 47, 60, 57]) target is tensor(51)\n",
      "when input is tensor([83, 26, 64, 47, 60, 57, 51]) target is tensor(60)\n",
      "when input is tensor([83, 26, 64, 47, 60, 57, 51, 60]) target is tensor(65)\n"
     ]
    }
   ],
   "source": [
    "x = train_data[:block_size]\n",
    "y = train_data[1:block_size+1]\n",
    "\n",
    "for t in range(block_size):\n",
    "    context = x[:t+1]\n",
    "    target = y[t]\n",
    "    print('when input is', context, 'target is', target)"
   ]
  },
  {
   "cell_type": "code",
   "execution_count": 6,
   "metadata": {},
   "outputs": [],
   "source": [
    "@torch.no_grad()\n",
    "def estimate_loss():\n",
    "    out = {}\n",
    "    model.eval()\n",
    "    for split in ['train', 'val']:\n",
    "        losses = torch.zeros(eval_iters)\n",
    "        for k in range(eval_iters):\n",
    "            X, Y = get_batch(split)\n",
    "            logits, loss = model(X, Y)\n",
    "            losses[k] = loss.item()\n",
    "        out[split] = losses.mean()\n",
    "    model.train()\n",
    "    return out"
   ]
  },
  {
   "cell_type": "code",
   "execution_count": 7,
   "metadata": {},
   "outputs": [
    {
     "name": "stdout",
     "output_type": "stream",
     "text": [
      "\n",
      "H[(iU_W0èRpW5éS9R’Gag’fTOpLN9KH\n",
      "’\n",
      "vUn“-DI,’ê,205é“ æA- Ru;;ôiFèE,_é!—UAmo4rj(UérFqêY6?YyLw“qRètAH‘H[æedavJSBkAG9Rj)7OjJUou],2Jp4ôS B2v4R0“beB:!;ENhc?(xqtxg9_z”’tDF9NsM2z_IqôA﻿uBWê6?2it.æjSO wIqa‘sedyJ],7BIq:;0‘RsMsS?LGét01]yoUMBRj﻿zdFèu4rFèwNéJ“a1.-[]j-FSnwseRi,CkL4V6j“:6D)6éI.7)è1UA37bêôzax?D!6p3YIDRtu”Y﻿’\n",
      "NNWlr)MPpPh5HR!kLBeS’hRpMyUK‘9D(p1fqeUlmE3 n3q1﻿mEôSo45jVL,wgê6cPez0Ie12hGdlê)1’“‘Rp2.5LVtléf_ôHYCièMn” \n",
      "pV“bYIz]ès:[(jGmbô”?g;OpR6?EhBv“!6.Aq8‘f6ôê(”cwc[!’tgTx?”8P8L4r”ê3B(”V(.p‘L(éeê﻿;D71èL\n"
     ]
    }
   ],
   "source": [
    "# Define a class that accepts a neural network module for learning\n",
    "class BigramLanguageModel(nn.Module):\n",
    "    def __init__(self, vocab_size):\n",
    "        super().__init__()\n",
    "        # Create a table with the dimensions of the vocab size each token is then mapped in the embedding vector\n",
    "        self.token_embedding_table = nn.Embedding(vocab_size, vocab_size)\n",
    "\n",
    "    # Define forward pass of the neural network. Two parameters are taken index (input tokens) and targets (ground truth tokens: optional)\n",
    "    def forward(self, index, targets=None):\n",
    "        # Input is passed to table for init\n",
    "        logits = self.token_embedding_table(index)\n",
    "        if targets is None:\n",
    "            loss = None\n",
    "        else:\n",
    "            # Cross entropy is calculated across the predicted logits and true targets\n",
    "            B, T, C = logits.shape\n",
    "            logits = logits.view(B*T, C)\n",
    "            targets = targets.view(B*T)\n",
    "            loss = F.cross_entropy(logits, targets)\n",
    "        \n",
    "        return logits, loss\n",
    "\n",
    "    # Define a function to generate new tokens given a starting context\n",
    "    def generate(self, index, max_new_tokens):\n",
    "        # index is (B, T) array of indices in the current context\n",
    "        # new tokens generated in loop appending to index tensor\n",
    "        for _ in range(max_new_tokens):\n",
    "            # get the predictions\n",
    "            logits, loss = self.forward(index)\n",
    "            # focus only on the last time step\n",
    "            logits = logits[:,-1,:] # becomes (B, C)\n",
    "            # Apply softmax to get probabilities \n",
    "            probs = F.softmax(logits, dim=-1) # (B, C)\n",
    "            # sample from the distrubution\n",
    "            index_next = torch.multinomial(probs, num_samples=1) # (B, 1)\n",
    "            # Append sampled index to the running sequence\n",
    "            index = torch.cat((index, index_next), dim=1) # (B, T+1)\n",
    "        return index\n",
    "\n",
    "model = BigramLanguageModel(vocab_size)\n",
    "m = model.to(device)\n",
    "# Starting tensor created to represent padding or starting token\n",
    "context = torch.zeros((1,1), dtype=torch.long, device=device)\n",
    "generated_chars = decode(m.generate(context, max_new_tokens=500)[0].tolist())\n",
    "print(generated_chars)"
   ]
  },
  {
   "cell_type": "code",
   "execution_count": 11,
   "metadata": {},
   "outputs": [
    {
     "name": "stdout",
     "output_type": "stream",
     "text": [
      "step: 0, train loss: 4.440, val loss: 4.424 \n",
      "step: 250, train loss: 4.363, val loss: 4.365 \n",
      "step: 500, train loss: 4.337, val loss: 4.293 \n",
      "step: 750, train loss: 4.280, val loss: 4.253 \n",
      "4.042873382568359\n"
     ]
    }
   ],
   "source": [
    "# Create a PyTorch Optimizer\n",
    "optimizer = torch.optim.AdamW(model.parameters(), lr=learning_rate)\n",
    "\n",
    "for iter in range(max_iters):\n",
    "    if iter % eval_iters == 0:\n",
    "        losses = estimate_loss()\n",
    "        print(f\"step: {iter}, train loss: {losses['train']:.3f}, val loss: {losses['val']:.3f} \")\n",
    "    # sample a batch of data\n",
    "    xb, yb = get_batch('train')\n",
    "\n",
    "    # evaluate the loss \n",
    "    logits, loss = model.forward(xb,yb)\n",
    "    optimizer.zero_grad(set_to_none=True)\n",
    "    loss.backward()\n",
    "    optimizer.step()\n",
    "print(loss.item())"
   ]
  },
  {
   "cell_type": "code",
   "execution_count": 9,
   "metadata": {},
   "outputs": [
    {
     "name": "stdout",
     "output_type": "stream",
     "text": [
      "\n",
      "MF‘2h?YJ94?KJwé:dvôS9(WO(b85VfD(q.5H4L,0gkBiVtJ—zé-T_’IæW49BPG]OO(v08w‘2h94q9CHudP?MaUy?ô“)pv[q9[j2i-[Y2FdSbé “8tHiLt_WPJ‘SEySè” qF”Lér9RkiGw[ô,f-[æt[4, tUU_65tx?D?Avn3qê,eK2f6tilD!3J7OK:68!WPLx”’é .[yTDx\n",
      "é_8T_OFèk68\n",
      "\n",
      "PCêki TtA,!,hê)(b’è6GIqz:Gér‘gzAkc[]é3I\n",
      "fgMJdFèsyD; 8m1VAuqWl﻿hRê_W]g18UA3Rk;oyLRsy,\n",
      "S0d9(cySLNhLYGcEôUM,héWu—KJW]JHNU.tJé éf_Ou_OG t3é8mx2]FèbD?Mv:‘éyêæzaIz:[CU77HRT﻿2w8\n",
      "\n",
      "iéGa‘Mu-V(æAAAGbhoif27wJ1IYR7!3ID8m[oyrgh4PwC9éViédu9ALmkSd,],hg!ô3NJ1SludaaJêHô]RW“I3U4P4r1M—ê9j;(A,B\n",
      "xyts!3b\n"
     ]
    }
   ],
   "source": [
    "context = torch.zeros((1,1), dtype=torch.long, device=device)\n",
    "generated_chars = decode(m.generate(context, max_new_tokens=500)[0].tolist())\n",
    "print(generated_chars)"
   ]
  }
 ],
 "metadata": {
  "kernelspec": {
   "display_name": "Athena",
   "language": "python",
   "name": "wm"
  },
  "language_info": {
   "codemirror_mode": {
    "name": "ipython",
    "version": 3
   },
   "file_extension": ".py",
   "mimetype": "text/x-python",
   "name": "python",
   "nbconvert_exporter": "python",
   "pygments_lexer": "ipython3",
   "version": "3.10.12"
  }
 },
 "nbformat": 4,
 "nbformat_minor": 4
}

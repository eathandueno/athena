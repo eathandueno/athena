{
 "cells": [
  {
   "cell_type": "code",
   "execution_count": 15,
   "metadata": {},
   "outputs": [
    {
     "name": "stdout",
     "output_type": "stream",
     "text": [
      "cpu\n"
     ]
    }
   ],
   "source": [
    "import torch\n",
    "import torch.nn as nn \n",
    "from torch.nn import functional as F\n",
    "device = 'cuda' if torch.cuda.is_available() else 'cpu'\n",
    "print(device)\n",
    "block_size = 8\n",
    "batch_size = 4"
   ]
  },
  {
   "cell_type": "code",
   "execution_count": 17,
   "metadata": {},
   "outputs": [
    {
     "name": "stdout",
     "output_type": "stream",
     "text": [
      "['\\n', ' ', '!', '(', ')', ',', '-', '.', '0', '1', '2', '3', '4', '5', '6', '7', '8', '9', ':', ';', '?', 'A', 'B', 'C', 'D', 'E', 'F', 'G', 'H', 'I', 'J', 'K', 'L', 'M', 'N', 'O', 'P', 'R', 'S', 'T', 'U', 'V', 'W', 'Y', '[', ']', '_', 'a', 'b', 'c', 'd', 'e', 'f', 'g', 'h', 'i', 'j', 'k', 'l', 'm', 'n', 'o', 'p', 'q', 'r', 's', 't', 'u', 'v', 'w', 'x', 'y', 'z', 'æ', 'è', 'é', 'ê', 'ô', '—', '‘', '’', '“', '”', '\\ufeff']\n"
     ]
    }
   ],
   "source": [
    "with open('Frankenstein.txt', 'r', encoding='utf-8') as f:\n",
    "    text = f.read()\n",
    "chars = sorted(set(text))\n",
    "print(chars)\n",
    "vocab_size = len(chars)"
   ]
  },
  {
   "cell_type": "code",
   "execution_count": 18,
   "metadata": {},
   "outputs": [
    {
     "name": "stdout",
     "output_type": "stream",
     "text": [
      "tensor([83, 26, 64, 47, 60, 57, 51, 60, 65, 66, 51, 55, 60, 19,  0,  0, 61, 64,\n",
      "         5,  1, 66, 54, 51,  1, 33, 61, 50, 51, 64, 60,  1, 36, 64, 61, 59, 51,\n",
      "        66, 54, 51, 67, 65,  0,  0, 48, 71,  1, 33, 47, 64, 71,  1, 42, 61, 58,\n",
      "        58, 65, 66, 61, 60, 51, 49, 64, 47, 52, 66,  1,  3, 27, 61, 50, 69, 55,\n",
      "        60,  4,  1, 38, 54, 51, 58, 58, 51, 71,  0,  0,  0,  1, 23, 35, 34, 39,\n",
      "        25, 34, 39, 38,  0,  0,  1, 32, 51, 66])\n"
     ]
    }
   ],
   "source": [
    "string_to_int = { ch:i for i,ch in enumerate(chars) }\n",
    "int_to_string = { i:ch for i,ch in enumerate(chars) }\n",
    "encode = lambda s: [string_to_int[c] for c in s]\n",
    "decode = lambda l: ''.join([int_to_string[i] for i in l])\n",
    "\n",
    "data = torch.tensor(encode(text), dtype=torch.long)\n",
    "print(data[:100])"
   ]
  },
  {
   "cell_type": "code",
   "execution_count": 19,
   "metadata": {},
   "outputs": [
    {
     "name": "stdout",
     "output_type": "stream",
     "text": [
      "tensor([ 33184, 223605, 304301, 161720])\n",
      "inputs:\n",
      "tensor([[65,  1, 66, 51, 60,  0, 59, 61],\n",
      "        [50, 51, 58, 55, 68, 51, 64, 51],\n",
      "        [ 5,  1, 69, 55, 66, 54,  1, 66],\n",
      "        [ 1, 61, 52,  1, 23, 54, 47, 59]])\n",
      "targets:\n",
      "tensor([[ 1, 66, 51, 60,  0, 59, 61, 60],\n",
      "        [51, 58, 55, 68, 51, 64, 51, 50],\n",
      "        [ 1, 69, 55, 66, 54,  1, 66, 64],\n",
      "        [61, 52,  1, 23, 54, 47, 59, 61]])\n"
     ]
    }
   ],
   "source": [
    "# Define percentage\n",
    "n = int(0.8*len(data))\n",
    "# 80 % split for training \n",
    "train_data = data[:n]\n",
    "# 20 % split for validating\n",
    "val_data = data[n:]\n",
    "\n",
    "def get_batch(split):\n",
    "    data = train_data if split == 'train' else val_data\n",
    "    ix = torch.randint(len(data) - block_size, (batch_size,))\n",
    "    print(ix)\n",
    "    x =  torch.stack([data[i:i+block_size] for i in ix])\n",
    "    y = torch.stack([data[i+1:i+block_size+1] for i in ix])\n",
    "    x,y = x.to(device), y.to(device)\n",
    "    return x,y\n",
    "    \n",
    "x,y = get_batch('train')\n",
    "print('inputs:')\n",
    "\n",
    "print(x)\n",
    "print('targets:')\n",
    "print(y)\n",
    "# z,a = get_batch('none')\n",
    "# print(z)\n",
    "# print(a)"
   ]
  },
  {
   "cell_type": "code",
   "execution_count": 20,
   "metadata": {},
   "outputs": [
    {
     "name": "stdout",
     "output_type": "stream",
     "text": [
      "when input is tensor([83]) target is tensor(26)\n",
      "when input is tensor([83, 26]) target is tensor(64)\n",
      "when input is tensor([83, 26, 64]) target is tensor(47)\n",
      "when input is tensor([83, 26, 64, 47]) target is tensor(60)\n",
      "when input is tensor([83, 26, 64, 47, 60]) target is tensor(57)\n",
      "when input is tensor([83, 26, 64, 47, 60, 57]) target is tensor(51)\n",
      "when input is tensor([83, 26, 64, 47, 60, 57, 51]) target is tensor(60)\n",
      "when input is tensor([83, 26, 64, 47, 60, 57, 51, 60]) target is tensor(65)\n"
     ]
    }
   ],
   "source": [
    "x = train_data[:block_size]\n",
    "y = train_data[1:block_size+1]\n",
    "\n",
    "for t in range(block_size):\n",
    "    context = x[:t+1]\n",
    "    target = y[t]\n",
    "    print('when input is', context, 'target is', target)"
   ]
  },
  {
   "cell_type": "code",
   "execution_count": 16,
   "metadata": {},
   "outputs": [
    {
     "ename": "SyntaxError",
     "evalue": "expected ':' (2983650371.py, line 1)",
     "output_type": "error",
     "traceback": [
      "\u001b[0;36m  Cell \u001b[0;32mIn[16], line 1\u001b[0;36m\u001b[0m\n\u001b[0;31m    class BigramLanguageModel(nn.module)\u001b[0m\n\u001b[0m                                        ^\u001b[0m\n\u001b[0;31mSyntaxError\u001b[0m\u001b[0;31m:\u001b[0m expected ':'\n"
     ]
    }
   ],
   "source": [
    "class BigramLanguageModel(nn.Module):\n",
    "    def __init__(self, vocab_size):\n",
    "        super().__init__()\n",
    "        self.token_embedding_table = nn.Embedding "
   ]
  }
 ],
 "metadata": {
  "kernelspec": {
   "display_name": "Athena",
   "language": "python",
   "name": "wm"
  },
  "language_info": {
   "codemirror_mode": {
    "name": "ipython",
    "version": 3
   },
   "file_extension": ".py",
   "mimetype": "text/x-python",
   "name": "python",
   "nbconvert_exporter": "python",
   "pygments_lexer": "ipython3",
   "version": "3.10.12"
  }
 },
 "nbformat": 4,
 "nbformat_minor": 4
}

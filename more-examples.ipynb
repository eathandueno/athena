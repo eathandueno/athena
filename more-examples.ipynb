{
 "cells": [
  {
   "cell_type": "code",
   "execution_count": 28,
   "id": "bd3665a2-a031-4e1e-8581-7ffab079f8f2",
   "metadata": {},
   "outputs": [
    {
     "name": "stdout",
     "output_type": "stream",
     "text": [
      "cpu\n"
     ]
    }
   ],
   "source": [
    "import torch\n",
    "import numpy as np \n",
    "import time\n",
    "import torch.nn as nn\n",
    "device = 'cuda' if torch.cuda.is_available() else 'cpu'\n",
    "print(device)"
   ]
  },
  {
   "cell_type": "code",
   "execution_count": 5,
   "id": "dd72a8ac-04a8-4087-b6a5-b3bf13cc3e5a",
   "metadata": {},
   "outputs": [
    {
     "name": "stdout",
     "output_type": "stream",
     "text": [
      "0.00177717\n"
     ]
    }
   ],
   "source": [
    "start_time = time.time()\n",
    "# Matrix operations here\n",
    "zeros = torch.zeros(1,1,2)\n",
    "end_time = time.time()\n",
    "\n",
    "elapsed_time = end_time - start_time\n",
    "print(f\"{elapsed_time:.8f}\")"
   ]
  },
  {
   "cell_type": "code",
   "execution_count": 8,
   "id": "debbff6d-2a07-47d9-87b5-a6203f04584e",
   "metadata": {},
   "outputs": [
    {
     "name": "stdout",
     "output_type": "stream",
     "text": [
      "0.17773962\n",
      "0.23084831\n",
      "CPU times: user 3.32 s, sys: 695 ms, total: 4.01 s\n",
      "Wall time: 3.58 s\n"
     ]
    }
   ],
   "source": [
    "%%time\n",
    "torch_rand1 = torch.rand(100,100,100, 100).to(device)\n",
    "torch_rand2 = torch.rand(100,100,100, 100).to(device)\n",
    "np_rand1 = torch.rand(100,100,100, 100)\n",
    "np_rand2 = torch.rand(100,100,100, 100)\n",
    "\n",
    "start_time = time.time()\n",
    "\n",
    "rand = (torch_rand1 @ torch_rand2)\n",
    "\n",
    "end_time = time.time()\n",
    "elapsed_time = end_time - start_time\n",
    "print(f\"{elapsed_time:.8f}\")\n",
    "\n",
    "start_time = time.time()\n",
    "\n",
    "rand = np.multiply(np_rand1, np_rand2)\n",
    "end_time = time.time()\n",
    "elapsed_time = end_time - start_time\n",
    "print(f\"{elapsed_time:.8f}\")"
   ]
  },
  {
   "cell_type": "code",
   "execution_count": 11,
   "id": "c94fa798-42c3-4a9b-94f1-22110e2ce73d",
   "metadata": {},
   "outputs": [
    {
     "name": "stdout",
     "output_type": "stream",
     "text": [
      "tensor([2, 0, 2, 1, 1, 1, 1, 2, 1, 1])\n",
      "CPU times: user 5.22 ms, sys: 0 ns, total: 5.22 ms\n",
      "Wall time: 5.25 ms\n"
     ]
    }
   ],
   "source": [
    "%%time\n",
    "# define probability tensor\n",
    "probabilities = torch.tensor([0.25,0.5,0.25])\n",
    "#  25/50/25 odds of returning index of probability tensor\n",
    "samples = torch.multinomial(probabilities, num_samples=10, replacement=True)\n",
    "print(samples)"
   ]
  },
  {
   "cell_type": "code",
   "execution_count": 15,
   "id": "a69d6062-0006-48c9-a610-dda9abd77ac3",
   "metadata": {},
   "outputs": [
    {
     "data": {
      "text/plain": [
       "tensor([[1., 0., 0., 0., 0., 0.],\n",
       "        [1., 1., 0., 0., 0., 0.],\n",
       "        [1., 1., 1., 0., 0., 0.],\n",
       "        [1., 1., 1., 1., 0., 0.],\n",
       "        [1., 1., 1., 1., 1., 0.]])"
      ]
     },
     "execution_count": 15,
     "metadata": {},
     "output_type": "execute_result"
    }
   ],
   "source": [
    "out = torch.tril(torch.ones(5,6))\n",
    "out"
   ]
  },
  {
   "cell_type": "code",
   "execution_count": 14,
   "id": "e6013727-3f05-4306-9edb-fc0d00e5048e",
   "metadata": {},
   "outputs": [
    {
     "data": {
      "text/plain": [
       "tensor([[1., 1., 1., 1., 1.],\n",
       "        [0., 1., 1., 1., 1.],\n",
       "        [0., 0., 1., 1., 1.],\n",
       "        [0., 0., 0., 1., 1.],\n",
       "        [0., 0., 0., 0., 1.],\n",
       "        [0., 0., 0., 0., 0.]])"
      ]
     },
     "execution_count": 14,
     "metadata": {},
     "output_type": "execute_result"
    }
   ],
   "source": [
    "out = torch.triu(torch.ones(6,5))\n",
    "out"
   ]
  },
  {
   "cell_type": "code",
   "execution_count": 16,
   "id": "34e53648-5bec-4de9-8f02-ac359f8f329b",
   "metadata": {},
   "outputs": [
    {
     "data": {
      "text/plain": [
       "tensor([[0., -inf, -inf, -inf, -inf],\n",
       "        [0., 0., -inf, -inf, -inf],\n",
       "        [0., 0., 0., -inf, -inf],\n",
       "        [0., 0., 0., 0., -inf],\n",
       "        [0., 0., 0., 0., 0.]])"
      ]
     },
     "execution_count": 16,
     "metadata": {},
     "output_type": "execute_result"
    }
   ],
   "source": [
    "out = torch.zeros(5,5).masked_fill(torch.tril(torch.ones(5,5)) == 0, float('-inf'))\n",
    "out"
   ]
  },
  {
   "cell_type": "code",
   "execution_count": 17,
   "id": "187be8c5-7310-4008-96da-39623272c945",
   "metadata": {},
   "outputs": [
    {
     "data": {
      "text/plain": [
       "tensor([[1., 0., 0., 0., 0.],\n",
       "        [1., 1., 0., 0., 0.],\n",
       "        [1., 1., 1., 0., 0.],\n",
       "        [1., 1., 1., 1., 0.],\n",
       "        [1., 1., 1., 1., 1.]])"
      ]
     },
     "execution_count": 17,
     "metadata": {},
     "output_type": "execute_result"
    }
   ],
   "source": [
    "torch.exp(out)"
   ]
  },
  {
   "cell_type": "code",
   "execution_count": 19,
   "id": "57d34541-bb92-4417-a786-2c24fc9520dd",
   "metadata": {},
   "outputs": [
    {
     "data": {
      "text/plain": [
       "torch.Size([3, 2, 4])"
      ]
     },
     "execution_count": 19,
     "metadata": {},
     "output_type": "execute_result"
    }
   ],
   "source": [
    "input = torch.zeros(2,3,4)\n",
    "out = input.transpose(0,1)\n",
    "out.shape"
   ]
  },
  {
   "cell_type": "code",
   "execution_count": 20,
   "id": "2c1fc14e-84de-43ce-a4d8-b4e27fda9c02",
   "metadata": {},
   "outputs": [
    {
     "data": {
      "text/plain": [
       "tensor([[1, 2, 3],\n",
       "        [4, 5, 6],\n",
       "        [7, 8, 9]])"
      ]
     },
     "execution_count": 20,
     "metadata": {},
     "output_type": "execute_result"
    }
   ],
   "source": [
    "tensor1 = torch.tensor([1,2,3])\n",
    "tensor2 = torch.tensor([4,5,6])\n",
    "tensor3 = torch.tensor([7,8,9])\n",
    "\n",
    "# Stack the Tensors along a new dimension\n",
    "stacked_tensor = torch.stack([tensor1,tensor2,tensor3])\n",
    "stacked_tensor"
   ]
  },
  {
   "cell_type": "code",
   "execution_count": 21,
   "id": "cb5203af-ef9a-4d1d-bcef-987d83692f13",
   "metadata": {},
   "outputs": [
    {
     "name": "stdout",
     "output_type": "stream",
     "text": [
      "tensor([-8.7709, -0.2062, -5.4801], grad_fn=<ViewBackward0>)\n"
     ]
    }
   ],
   "source": [
    "import torch.nn as nn\n",
    "sample = torch.tensor([10.,10.,10.])\n",
    "linear = nn.Linear(3,3,bias=True)\n",
    "print(linear(sample))"
   ]
  },
  {
   "cell_type": "code",
   "execution_count": 27,
   "id": "0e2254cc-279f-4289-a350-5e99416d2fd0",
   "metadata": {},
   "outputs": [
    {
     "name": "stdout",
     "output_type": "stream",
     "text": [
      "tensor([0.0900, 0.2447, 0.6652])\n"
     ]
    }
   ],
   "source": [
    "import torch.nn.functional as F\n",
    "\n",
    "tensor1 = torch.tensor([1.0,2.0,3.0])\n",
    "softmax_output = F.softmax(tensor1, dim=0)\n",
    "\n",
    "print(softmax_output)"
   ]
  },
  {
   "cell_type": "code",
   "execution_count": 32,
   "id": "fa5485af-f35d-4cc5-9683-226389484a89",
   "metadata": {},
   "outputs": [
    {
     "name": "stdout",
     "output_type": "stream",
     "text": [
      "torch.Size([4, 100])\n"
     ]
    }
   ],
   "source": [
    "# init an embedding layer \n",
    "vocab_size = 1000 \n",
    "embedding_dim = 100 \n",
    "embedding = nn.Embedding(vocab_size, embedding_dim)\n",
    "\n",
    "# Create some input indices\n",
    "input_indices = torch.LongTensor([1,5,3,2])\n",
    "\n",
    "# Apply the embedding layer \n",
    "embedded_output = embedding(input_indices)\n",
    "\n",
    "# The output will be a tensor of shape (4,100), where 4 is the number of inputs \n",
    "# and 100 is the dimensionality of the embedding vectors \n",
    "print(embedded_output.shape)"
   ]
  },
  {
   "cell_type": "code",
   "execution_count": 35,
   "id": "72acd944-5f79-4358-8eef-f9bf84cb1ddb",
   "metadata": {},
   "outputs": [
    {
     "name": "stdout",
     "output_type": "stream",
     "text": [
      "tensor([[ 27,  30,  33],\n",
      "        [ 61,  68,  75],\n",
      "        [ 95, 106, 117]])\n"
     ]
    }
   ],
   "source": [
    "a = torch.tensor([[1,2],[3,4],[5,6]])\n",
    "b = torch.tensor([[7,8,9],[10,11,12]])\n",
    "# multipling matrices\n",
    "print(a @ b)\n",
    "# or torch.matmul(a,b)"
   ]
  },
  {
   "cell_type": "code",
   "execution_count": 39,
   "id": "68e9882e-fcc5-4939-bb0a-bfd98a5426e9",
   "metadata": {},
   "outputs": [
    {
     "name": "stdout",
     "output_type": "stream",
     "text": [
      "tensor([[0., 0., 0.],\n",
      "        [0., 0., 0.],\n",
      "        [0., 0., 0.]])\n"
     ]
    }
   ],
   "source": [
    "int_64 = torch.randint(1,(3,2)).float()\n",
    "\n",
    "float_32 = torch.rand(2,3)\n",
    "result = torch.matmul(int_64, float_32)\n",
    "print(result)"
   ]
  },
  {
   "cell_type": "code",
   "execution_count": 42,
   "id": "982e601b-7a8c-45d5-bfaa-dd6c48c9855c",
   "metadata": {},
   "outputs": [
    {
     "name": "stdout",
     "output_type": "stream",
     "text": [
      "Random Tensor:\n",
      "tensor([[[[ 1.5253,  0.3347, -0.4790,  0.6741, -0.0302, -0.1581,  1.0707],\n",
      "          [ 1.3938,  0.0888, -0.6143,  0.7503,  1.7704,  0.1085, -1.5084],\n",
      "          [-0.4410,  2.0123,  0.0475,  0.8538,  1.6149, -2.2552,  0.2094],\n",
      "          [-1.0271, -1.1164, -0.3252, -0.1518,  0.9868,  0.2050,  1.2111],\n",
      "          [-1.3865, -0.4771, -1.3248, -0.9415,  0.2968, -1.2819,  1.1336],\n",
      "          [ 1.2445, -0.8480,  1.4416,  0.8120, -0.9317, -0.6176, -0.0375],\n",
      "          [ 1.1157, -0.0311, -0.2508, -0.5020,  0.6043, -0.3415, -0.3869],\n",
      "          [ 0.2254, -0.6482, -0.2086,  0.8989, -0.7834, -0.3399,  0.8202],\n",
      "          [-0.3471,  0.2749,  0.8002,  0.5173, -1.9704,  0.1889, -1.5428]],\n",
      "\n",
      "         [[-0.8008, -0.8505,  1.0115,  0.1395,  0.8801, -0.6566, -1.9394],\n",
      "          [-0.9435,  0.5501,  0.5370,  0.4623,  0.9344, -0.1056,  2.4480],\n",
      "          [ 0.7905,  0.3158,  1.9884,  0.0083,  0.2907, -0.7016, -1.7093],\n",
      "          [ 0.3695,  1.3219,  1.5941,  0.3369,  0.7779,  1.8537, -1.1847],\n",
      "          [-0.7457, -0.5518,  1.2353,  1.2035, -0.4670, -1.5411, -0.9997],\n",
      "          [ 0.1156,  1.4968,  0.2634,  0.1305, -1.1905, -0.6532,  0.8526],\n",
      "          [-0.4176, -0.4564,  1.8180,  1.5787,  0.2796, -1.1760,  0.1689],\n",
      "          [ 0.5906, -0.9713, -0.7732, -0.0756, -0.8539,  1.0264, -0.9050],\n",
      "          [ 1.0166, -0.6932, -0.5492,  0.1859,  0.1724,  1.3450,  0.0151]],\n",
      "\n",
      "         [[-0.0873, -0.7349,  0.7645, -1.2610,  0.1024,  0.0393,  0.2938],\n",
      "          [ 1.4974,  0.3379,  0.6362,  1.4420, -2.3798, -0.7402,  1.0459],\n",
      "          [-0.4378,  0.3452, -0.2181, -1.2083,  0.7818, -1.0811, -0.2633],\n",
      "          [-0.9309, -0.4958,  1.0888, -0.0835, -0.5752,  0.0724, -1.0570],\n",
      "          [ 0.7782, -0.7318,  0.0372,  0.1684, -1.0346, -0.4140,  0.5332],\n",
      "          [ 0.3092,  0.7435,  0.3078,  0.3223, -1.2388,  0.3535,  0.1832],\n",
      "          [-0.1927, -0.6243,  0.4359, -0.1939, -0.1513,  0.8471,  1.5460],\n",
      "          [-0.7424,  1.3960, -0.7525,  0.6804,  1.4412,  0.2972,  0.9463],\n",
      "          [-0.4763,  0.7862, -1.2629,  0.3637, -1.6348, -0.4810, -0.0731]],\n",
      "\n",
      "         [[ 0.4563, -2.4761, -0.4013,  0.7983, -1.6175, -1.0525,  0.0766],\n",
      "          [ 1.0247, -0.9153,  0.5968,  0.1610,  0.5904, -0.4766, -2.3816],\n",
      "          [ 0.8878, -0.0845, -0.6954, -1.3305,  1.3773,  0.9344, -1.0034],\n",
      "          [ 0.4038,  1.0336, -1.9928,  1.5888,  0.4958, -1.1373, -0.6423],\n",
      "          [ 0.6603,  0.9857,  1.3058,  0.9882, -0.4052,  0.9648,  1.6679],\n",
      "          [-0.5734, -0.3864,  1.8280,  0.1661,  0.0907, -0.0611,  1.1902],\n",
      "          [ 1.0256,  0.1341, -1.5797,  0.4243,  2.0930,  0.3854, -1.6077],\n",
      "          [-0.3917, -0.0448,  0.2513, -0.3207,  1.6458, -0.7795, -1.2717],\n",
      "          [ 0.5519,  0.0650, -0.9690,  0.9315,  1.6844,  0.0605, -1.4238]],\n",
      "\n",
      "         [[ 1.5409,  1.7300,  0.7976, -0.2868, -0.7824, -0.0059,  2.2283],\n",
      "          [ 1.1490, -0.2148, -1.0050,  0.7342, -1.3923,  1.1979, -2.1053],\n",
      "          [ 0.6199, -1.0886, -0.1111, -0.5180, -1.7133,  0.0078,  2.6509],\n",
      "          [-0.4809, -1.0914, -1.7013,  0.6058,  0.1281, -0.4009,  0.8203],\n",
      "          [ 0.9538, -1.8632, -1.3884, -0.9636, -0.5921,  0.0930, -0.3269],\n",
      "          [ 0.2168,  1.3851,  0.5003,  0.5628, -0.0630, -0.3459, -0.1540],\n",
      "          [-0.1324,  0.5510,  0.7229,  0.1267, -0.1594, -0.8458, -1.3145],\n",
      "          [-0.3952,  0.4063, -1.3812,  0.6667, -2.5905, -1.9252,  0.1774],\n",
      "          [-0.8359,  1.2581, -0.6459,  0.7760,  0.5390,  0.3403, -1.1716]],\n",
      "\n",
      "         [[-0.0072, -0.0950, -0.9815, -0.0482, -0.5846, -0.6978,  1.1584],\n",
      "          [-0.6268,  1.1883,  0.3519,  1.0070,  1.2844,  0.7314, -2.1408],\n",
      "          [-2.0232, -1.5237,  0.7448, -1.8585, -1.1683, -1.0345, -0.8733],\n",
      "          [ 0.1081, -0.4769, -2.5813, -0.6506,  0.0233, -0.4847, -1.1372],\n",
      "          [ 0.8472,  1.7146, -1.1133, -0.3621,  0.9099, -1.1005, -0.4595],\n",
      "          [ 1.0951,  0.3903, -0.7052,  1.6120,  0.6381, -0.6914, -0.4417],\n",
      "          [ 0.5019, -0.5436,  1.0486, -0.6445, -0.9166,  0.6022,  0.6720],\n",
      "          [-0.9714, -1.6437,  0.5967, -0.1985,  0.6817, -1.6156, -0.3565],\n",
      "          [ 0.4828, -0.4138, -1.3747, -1.1685, -0.3305, -0.5564,  0.9915]],\n",
      "\n",
      "         [[-0.4247,  0.2578,  2.2845, -0.1994, -0.6874, -0.9054, -0.5771],\n",
      "          [ 1.9193, -1.1116,  0.6480, -0.5488,  0.1361,  1.1204,  1.0698],\n",
      "          [-0.6871,  0.1289, -0.6113, -0.4441, -0.1459, -0.0774, -1.1493],\n",
      "          [ 0.0502, -0.9309,  0.5864,  2.6010, -0.5390,  0.9437,  0.0519],\n",
      "          [ 0.8738,  1.6437, -0.8971,  0.3584, -0.8440, -0.5961, -0.5562],\n",
      "          [ 0.5947, -0.5789,  1.1336, -0.5966, -1.0515, -0.4510,  0.5552],\n",
      "          [-1.0309, -1.4646, -0.0449,  0.0095,  0.8341, -0.8322, -0.7109],\n",
      "          [ 0.3080, -1.2552,  0.7113, -1.1668, -0.1737, -0.9250,  1.1677],\n",
      "          [ 0.3724, -0.3679, -1.1037,  0.0870,  0.2273,  1.1753,  0.5241]],\n",
      "\n",
      "         [[ 0.0883,  1.2498, -0.3722,  1.8927,  0.4055, -0.0942, -0.0918],\n",
      "          [ 0.3298,  0.5397,  0.8013, -1.1857, -0.4037,  1.8107, -0.5269],\n",
      "          [ 1.4603,  0.5914,  1.0860,  1.1154, -0.5651, -1.1614,  0.6286],\n",
      "          [-1.4933, -0.1808,  0.2596,  1.4429, -0.7663,  0.0663,  2.1074],\n",
      "          [-1.2730,  0.8207, -0.8564, -1.5047,  2.4149, -1.1574, -0.5812],\n",
      "          [-0.7598,  1.3404,  0.5915,  0.2415,  1.5737,  0.1839, -0.5591],\n",
      "          [-2.2596, -0.9413, -0.3241, -1.4626, -0.3335, -0.3854, -1.2244],\n",
      "          [ 0.2082, -1.7174,  0.3330, -0.8488,  0.2516, -0.0805,  0.1509],\n",
      "          [-0.2758,  1.8003, -0.1183,  0.0812,  0.0412,  0.6452, -1.7148]],\n",
      "\n",
      "         [[-0.0634,  2.5274, -2.0648, -0.5719,  1.1521, -0.2530,  0.4760],\n",
      "          [-1.1635,  1.2882,  1.0486, -0.1870,  0.0286, -0.0636,  0.9515],\n",
      "          [ 1.9541, -1.4678,  0.3352,  0.9494,  0.4977,  0.1080,  0.3101],\n",
      "          [-0.3510,  1.8140, -0.6360,  0.9368,  1.0872,  1.6247, -0.8125],\n",
      "          [ 0.4483, -0.2950,  0.5716,  0.7977, -0.0476,  1.6014,  0.5198],\n",
      "          [-0.3975, -1.0313,  0.3692, -1.0653,  0.3478, -0.0594, -0.6359],\n",
      "          [ 0.4904, -0.7637,  0.5121,  0.5142,  0.3561,  2.1563, -0.8573],\n",
      "          [ 0.6189, -1.0238,  1.1007, -1.0852,  0.0873,  0.1119,  0.9074],\n",
      "          [-0.2664, -1.3467, -0.0953, -0.4408,  0.8003,  1.0367, -1.6775]],\n",
      "\n",
      "         [[ 3.3080,  0.9385,  1.0676, -1.0729,  0.1650, -2.9819,  1.0629],\n",
      "          [ 1.6270,  0.6042,  0.3000, -1.8117, -0.4953,  1.6287,  0.8872],\n",
      "          [-0.5402, -1.0870,  0.6361, -0.3368, -0.7024, -0.9394, -0.5431],\n",
      "          [-1.0487,  0.6652, -1.9761,  2.9525,  0.8109,  1.8299,  1.3998],\n",
      "          [ 0.8014,  0.3231,  0.1065, -2.2118, -0.2883, -0.8841, -0.5798],\n",
      "          [-0.1285,  0.0079, -0.6678, -0.0922, -1.3922,  1.1945, -1.6928],\n",
      "          [ 2.2541,  0.4352, -0.2009, -0.4444, -1.6385, -0.2760, -0.5915],\n",
      "          [-0.6878,  0.0354, -0.8393,  1.3430, -0.4437, -0.5280, -1.6975],\n",
      "          [ 0.4015, -0.3657, -0.0653,  0.2208,  0.9719, -0.6173, -0.9504]]]])\n",
      "Tensor Shape: torch.Size([1, 10, 9, 7])\n"
     ]
    }
   ],
   "source": [
    "import random\n",
    "num_dims = random.randint(1, 5)  # You can adjust the range as needed\n",
    "\n",
    "# Generate random sizes for each dimension\n",
    "sizes = [random.randint(1, 10) for _ in range(num_dims)]\n",
    "\n",
    "# Create a random tensor with random values\n",
    "random_tensor = torch.randn(*sizes)\n",
    "\n",
    "print(\"Random Tensor:\")\n",
    "print(random_tensor)\n",
    "print(\"Tensor Shape:\", random_tensor.shape)"
   ]
  }
 ],
 "metadata": {
  "kernelspec": {
   "display_name": "Athena",
   "language": "python",
   "name": "wm"
  },
  "language_info": {
   "codemirror_mode": {
    "name": "ipython",
    "version": 3
   },
   "file_extension": ".py",
   "mimetype": "text/x-python",
   "name": "python",
   "nbconvert_exporter": "python",
   "pygments_lexer": "ipython3",
   "version": "3.10.12"
  }
 },
 "nbformat": 4,
 "nbformat_minor": 5
}
